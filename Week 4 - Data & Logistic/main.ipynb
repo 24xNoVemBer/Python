{
 "cells": [
  {
   "cell_type": "code",
   "id": "initial_id",
   "metadata": {
    "collapsed": true,
    "ExecuteTime": {
     "end_time": "2025-10-13T14:56:37.691395Z",
     "start_time": "2025-10-13T14:56:37.687387Z"
    }
   },
   "source": "import numpy as np\n",
   "outputs": [],
   "execution_count": 8
  },
  {
   "metadata": {
    "ExecuteTime": {
     "end_time": "2025-10-13T14:56:37.706894Z",
     "start_time": "2025-10-13T14:56:37.701886Z"
    }
   },
   "cell_type": "code",
   "source": [
    "matrix_a = np.array([[1,2],[3,4]])\n",
    "matrix_b = np.array([[5,6],[7,8]])\n",
    "\n",
    "print(matrix_a)\n",
    "print(matrix_b)\n"
   ],
   "id": "f3fd3cbd4b69798c",
   "outputs": [
    {
     "name": "stdout",
     "output_type": "stream",
     "text": [
      "[[1 2]\n",
      " [3 4]]\n",
      "[[5 6]\n",
      " [7 8]]\n"
     ]
    }
   ],
   "execution_count": 9
  },
  {
   "metadata": {
    "ExecuteTime": {
     "end_time": "2025-10-13T14:56:37.726470Z",
     "start_time": "2025-10-13T14:56:37.722484Z"
    }
   },
   "cell_type": "code",
   "source": "print(matrix_a + matrix_b)",
   "id": "fc048535c7037b2f",
   "outputs": [
    {
     "name": "stdout",
     "output_type": "stream",
     "text": [
      "[[ 6  8]\n",
      " [10 12]]\n"
     ]
    }
   ],
   "execution_count": 10
  },
  {
   "metadata": {
    "ExecuteTime": {
     "end_time": "2025-10-13T14:56:37.745673Z",
     "start_time": "2025-10-13T14:56:37.741669Z"
    }
   },
   "cell_type": "code",
   "source": [
    "print(matrix_a - matrix_b)\n",
    "print(matrix_a * matrix_b)\n",
    "print(matrix_a * 5)"
   ],
   "id": "1c0e877246e27d1d",
   "outputs": [
    {
     "name": "stdout",
     "output_type": "stream",
     "text": [
      "[[-4 -4]\n",
      " [-4 -4]]\n",
      "[[ 5 12]\n",
      " [21 32]]\n",
      "[[ 5 10]\n",
      " [15 20]]\n"
     ]
    }
   ],
   "execution_count": 11
  },
  {
   "metadata": {
    "ExecuteTime": {
     "end_time": "2025-10-13T15:01:29.178129Z",
     "start_time": "2025-10-13T15:01:29.172125Z"
    }
   },
   "cell_type": "code",
   "source": "matrix_a",
   "id": "4f6cbb9275a75589",
   "outputs": [
    {
     "data": {
      "text/plain": [
       "array([[1, 2],\n",
       "       [3, 4]])"
      ]
     },
     "execution_count": 26,
     "metadata": {},
     "output_type": "execute_result"
    }
   ],
   "execution_count": 26
  },
  {
   "metadata": {
    "ExecuteTime": {
     "end_time": "2025-10-13T15:01:42.932003Z",
     "start_time": "2025-10-13T15:01:42.928003Z"
    }
   },
   "cell_type": "code",
   "source": "print(matrix_a @ matrix_b)",
   "id": "9cb3c011582bd802",
   "outputs": [
    {
     "name": "stdout",
     "output_type": "stream",
     "text": [
      "[[19 22]\n",
      " [43 50]]\n"
     ]
    }
   ],
   "execution_count": 27
  },
  {
   "metadata": {
    "ExecuteTime": {
     "end_time": "2025-10-13T15:06:06.745950Z",
     "start_time": "2025-10-13T15:06:06.741823Z"
    }
   },
   "cell_type": "code",
   "source": "matrix_1 = np.array([[1,2,3],[2,3,4]])",
   "id": "89f1feff32bea71d",
   "outputs": [],
   "execution_count": 37
  },
  {
   "metadata": {
    "ExecuteTime": {
     "end_time": "2025-10-13T15:03:25.135713Z",
     "start_time": "2025-10-13T15:03:25.131778Z"
    }
   },
   "cell_type": "code",
   "source": "print(matrix_1 - matrix_2)",
   "id": "279e37cb922bbdfb",
   "outputs": [
    {
     "name": "stdout",
     "output_type": "stream",
     "text": [
      "[[-4 -4]\n",
      " [-5 -5]\n",
      " [-6 -6]]\n"
     ]
    }
   ],
   "execution_count": 29
  },
  {
   "metadata": {
    "ExecuteTime": {
     "end_time": "2025-10-13T15:03:35.124733Z",
     "start_time": "2025-10-13T15:03:35.119844Z"
    }
   },
   "cell_type": "code",
   "source": "matrix_1.T",
   "id": "6526250bf516b270",
   "outputs": [
    {
     "data": {
      "text/plain": [
       "array([[1, 2, 3],\n",
       "       [2, 3, 4]])"
      ]
     },
     "execution_count": 30,
     "metadata": {},
     "output_type": "execute_result"
    }
   ],
   "execution_count": 30
  },
  {
   "metadata": {
    "ExecuteTime": {
     "end_time": "2025-10-13T15:06:10.490822Z",
     "start_time": "2025-10-13T15:06:10.485102Z"
    }
   },
   "cell_type": "code",
   "source": [
    "matrix_2 = np.array([[1,2,3,4],[4,5,4,4],[7,8,9,4]])\n",
    "matrix_2"
   ],
   "id": "55142c8468dbf017",
   "outputs": [
    {
     "data": {
      "text/plain": [
       "array([[1, 2, 3, 4],\n",
       "       [4, 5, 4, 4],\n",
       "       [7, 8, 9, 4]])"
      ]
     },
     "execution_count": 38,
     "metadata": {},
     "output_type": "execute_result"
    }
   ],
   "execution_count": 38
  },
  {
   "metadata": {
    "ExecuteTime": {
     "end_time": "2025-10-13T15:06:12.925535Z",
     "start_time": "2025-10-13T15:06:12.921561Z"
    }
   },
   "cell_type": "code",
   "source": "print(matrix_1 @ matrix_2)",
   "id": "97f4048dd0bf6213",
   "outputs": [
    {
     "name": "stdout",
     "output_type": "stream",
     "text": [
      "[[30 36 38 24]\n",
      " [42 51 54 36]]\n"
     ]
    }
   ],
   "execution_count": 39
  },
  {
   "metadata": {},
   "cell_type": "code",
   "outputs": [],
   "execution_count": null,
   "source": "",
   "id": "7fb2cd8e0cc76ea5"
  }
 ],
 "metadata": {
  "kernelspec": {
   "display_name": "Python 3",
   "language": "python",
   "name": "python3"
  },
  "language_info": {
   "codemirror_mode": {
    "name": "ipython",
    "version": 2
   },
   "file_extension": ".py",
   "mimetype": "text/x-python",
   "name": "python",
   "nbconvert_exporter": "python",
   "pygments_lexer": "ipython2",
   "version": "2.7.6"
  }
 },
 "nbformat": 4,
 "nbformat_minor": 5
}
