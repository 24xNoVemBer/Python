{
 "cells": [
  {
   "cell_type": "code",
   "execution_count": 2,
   "id": "434740f2-1e6e-4dae-b058-46a8a3b2dd3a",
   "metadata": {},
   "outputs": [],
   "source": [
    "import numpy as np"
   ]
  },
  {
   "cell_type": "code",
   "execution_count": 3,
   "id": "1fd8e49c-beda-46a8-b351-42e67cf2dc35",
   "metadata": {},
   "outputs": [
    {
     "name": "stdout",
     "output_type": "stream",
     "text": [
      "[[1 2]\n",
      " [3 4]]\n",
      "Dtype of Matrix int64\n"
     ]
    }
   ],
   "source": [
    "A = np.array([[1,2],\n",
    "              [3,4]])\n",
    "print(A)\n",
    "print(\"Dtype of Matrix\",A.dtype)"
   ]
  },
  {
   "cell_type": "code",
   "execution_count": 5,
   "id": "6e7b5a0c-2c1d-4d2d-977a-a6a1a698f75f",
   "metadata": {},
   "outputs": [
    {
     "name": "stdout",
     "output_type": "stream",
     "text": [
      "[[2.3  3.4 ]\n",
      " [3.21 3.13]]\n",
      "Dtype of Matrix float64\n"
     ]
    }
   ],
   "source": [
    "B = np.array([[2.3  , 3.4],\n",
    "             [3.21 , 3.13]])\n",
    "print(B)\n",
    "print(\"Dtype of Matrix\" ,B.dtype)"
   ]
  },
  {
   "cell_type": "code",
   "execution_count": 9,
   "id": "d399dc45-84cb-4fd1-b1f5-86e818fa499c",
   "metadata": {},
   "outputs": [
    {
     "name": "stdout",
     "output_type": "stream",
     "text": [
      "[['sq' 'aaf']\n",
      " ['asd' 'asss']]\n",
      "Dtype of Matrix <U4\n"
     ]
    }
   ],
   "source": [
    "C = np.array([['sq','aaf'],\n",
    "              ['asd','asssssssssssssfd']],dtype=\"<U4\")\n",
    "print(C)\n",
    "print(\"Dtype of Matrix\",C.dtype)"
   ]
  },
  {
   "cell_type": "code",
   "execution_count": 10,
   "id": "6eb6dd0b-ccab-4ecc-80fc-5729b4b3057b",
   "metadata": {},
   "outputs": [
    {
     "name": "stdout",
     "output_type": "stream",
     "text": [
      "float32\n"
     ]
    }
   ],
   "source": [
    "A = A.astype(np.float32)\n",
    "print(A.dtype)"
   ]
  },
  {
   "cell_type": "code",
   "execution_count": 11,
   "id": "6471090c-15c5-4fe4-9286-37a108df53f7",
   "metadata": {},
   "outputs": [
    {
     "name": "stdout",
     "output_type": "stream",
     "text": [
      "[[-0.17375902  0.42581826  2.03328935]\n",
      " [ 1.17608215 -0.76863673 -0.0681119 ]]\n"
     ]
    }
   ],
   "source": [
    "R = np.random.randn(2,3)\n",
    "print(R)"
   ]
  },
  {
   "cell_type": "code",
   "execution_count": 12,
   "id": "d2e8506f-50f5-4f83-9548-84164ccc7ea9",
   "metadata": {},
   "outputs": [
    {
     "name": "stdout",
     "output_type": "stream",
     "text": [
      "[[ 0.54820821  0.27203036 -0.64362969]\n",
      " [ 0.15131359  0.28487286 -0.76573647]]\n"
     ]
    }
   ],
   "source": [
    "R = np.random.uniform(low=-1,high=1,size=(2,3))\n",
    "print(R)"
   ]
  },
  {
   "cell_type": "code",
   "execution_count": 15,
   "id": "fae3a0ce-a945-40ea-8a1b-7d48402b494a",
   "metadata": {},
   "outputs": [
    {
     "name": "stdout",
     "output_type": "stream",
     "text": [
      "[[-3  0  2]\n",
      " [ 2  0 -3]]\n"
     ]
    }
   ],
   "source": [
    "R = np.random.randint(low=-5,high=5,size=(2,3))\n",
    "print(R)"
   ]
  },
  {
   "cell_type": "code",
   "execution_count": 22,
   "id": "ce0228f0-7bc7-4649-a137-56c75e56ea87",
   "metadata": {},
   "outputs": [
    {
     "name": "stdout",
     "output_type": "stream",
     "text": [
      "[[0 0 0 5 0 5]\n",
      " [6 6 3 1 1 3]\n",
      " [0 6 0 2 4 1]]\n"
     ]
    },
    {
     "ename": "FileNotFoundError",
     "evalue": "[Errno 2] No such file or directory: 'Road to OLP AI 20 days\\\\Day 1 - Python Data Science/.npy'",
     "output_type": "error",
     "traceback": [
      "\u001b[31m---------------------------------------------------------------------------\u001b[39m",
      "\u001b[31mFileNotFoundError\u001b[39m                         Traceback (most recent call last)",
      "\u001b[36mCell\u001b[39m\u001b[36m \u001b[39m\u001b[32mIn[22]\u001b[39m\u001b[32m, line 4\u001b[39m\n\u001b[32m      2\u001b[39m \u001b[38;5;28mprint\u001b[39m(A)\n\u001b[32m      3\u001b[39m \u001b[38;5;66;03m# Dinh dang npy\u001b[39;00m\n\u001b[32m----> \u001b[39m\u001b[32m4\u001b[39m \u001b[43mnp\u001b[49m\u001b[43m.\u001b[49m\u001b[43msave\u001b[49m\u001b[43m(\u001b[49m\u001b[33;43m'\u001b[39;49m\u001b[33;43mRoad to OLP AI 20 days\u001b[39;49m\u001b[33;43m\\\u001b[39;49m\u001b[33;43mDay 1 - Python Data Science/\u001b[39;49m\u001b[33;43m'\u001b[39;49m\u001b[43m,\u001b[49m\u001b[43mA\u001b[49m\u001b[43m)\u001b[49m\n\u001b[32m      5\u001b[39m \u001b[38;5;66;03m# Dinh dang txt\u001b[39;00m\n\u001b[32m      6\u001b[39m np.savetxt(\u001b[33m'\u001b[39m\u001b[33mRoad to OLP AI 20 days\u001b[39m\u001b[33m\\\u001b[39m\u001b[33mDay 1 - Python Data Science/\u001b[39m\u001b[33m'\u001b[39m,A)\n",
      "\u001b[36mFile \u001b[39m\u001b[32m~\\AppData\\Local\\Packages\\PythonSoftwareFoundation.Python.3.11_qbz5n2kfra8p0\\LocalCache\\local-packages\\Python311\\site-packages\\numpy\\lib\\_npyio_impl.py:577\u001b[39m, in \u001b[36msave\u001b[39m\u001b[34m(file, arr, allow_pickle, fix_imports)\u001b[39m\n\u001b[32m    575\u001b[39m     \u001b[38;5;28;01mif\u001b[39;00m \u001b[38;5;129;01mnot\u001b[39;00m file.endswith(\u001b[33m'\u001b[39m\u001b[33m.npy\u001b[39m\u001b[33m'\u001b[39m):\n\u001b[32m    576\u001b[39m         file = file + \u001b[33m'\u001b[39m\u001b[33m.npy\u001b[39m\u001b[33m'\u001b[39m\n\u001b[32m--> \u001b[39m\u001b[32m577\u001b[39m     file_ctx = \u001b[38;5;28;43mopen\u001b[39;49m\u001b[43m(\u001b[49m\u001b[43mfile\u001b[49m\u001b[43m,\u001b[49m\u001b[43m \u001b[49m\u001b[33;43m\"\u001b[39;49m\u001b[33;43mwb\u001b[39;49m\u001b[33;43m\"\u001b[39;49m\u001b[43m)\u001b[49m\n\u001b[32m    579\u001b[39m \u001b[38;5;28;01mwith\u001b[39;00m file_ctx \u001b[38;5;28;01mas\u001b[39;00m fid:\n\u001b[32m    580\u001b[39m     arr = np.asanyarray(arr)\n",
      "\u001b[31mFileNotFoundError\u001b[39m: [Errno 2] No such file or directory: 'Road to OLP AI 20 days\\\\Day 1 - Python Data Science/.npy'"
     ]
    }
   ],
   "source": [
    "A = np.random.randint(low=0,high=7,size=(3,6))\n",
    "print(A)\n",
    "# Dinh dang npy\n",
    "np.save('Road to OLP AI 20 days\\Day 1 - Python Data Science/',A)\n",
    "# Dinh dang txt\n",
    "np.savetxt('Road to OLP AI 20 days\\Day 1 - Python Data Science/',A)\n",
    "# List cac file \n",
    "!ls -a numpy_save"
   ]
  },
  {
   "cell_type": "code",
   "execution_count": null,
   "id": "57e8e492-387e-4e4f-9c34-87c9436d6224",
   "metadata": {},
   "outputs": [],
   "source": []
  }
 ],
 "metadata": {
  "kernelspec": {
   "display_name": "Python 3 (ipykernel)",
   "language": "python",
   "name": "python3"
  },
  "language_info": {
   "codemirror_mode": {
    "name": "ipython",
    "version": 3
   },
   "file_extension": ".py",
   "mimetype": "text/x-python",
   "name": "python",
   "nbconvert_exporter": "python",
   "pygments_lexer": "ipython3",
   "version": "3.11.9"
  }
 },
 "nbformat": 4,
 "nbformat_minor": 5
}
