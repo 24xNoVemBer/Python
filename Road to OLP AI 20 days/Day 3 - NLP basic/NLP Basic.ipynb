{
 "cells": [
  {
   "metadata": {},
   "cell_type": "markdown",
   "source": "### Load Dataset",
   "id": "775d0f985f9f939b"
  },
  {
   "cell_type": "code",
   "id": "initial_id",
   "metadata": {
    "collapsed": true,
    "ExecuteTime": {
     "end_time": "2025-09-30T12:43:14.392822Z",
     "start_time": "2025-09-30T12:43:14.386300Z"
    }
   },
   "source": [
    "import re\n",
    "text = \"NASA launched a new Rocket in 2024! Visit https://nasa.gov 🚀\"\n",
    "# 1, text lower\n",
    "text_lower = text.lower()\n",
    "\n",
    "# 2,xoa url bang regex\n",
    "text_no_url = re.sub(r'https?://\\S+', '', text_lower)\n",
    "\n",
    "# 3, Giu lai chu cai va khoang trang\n",
    "text_alpha_space = re.sub(r'[^a-z\\s]', ' ', text_no_url)\n",
    "\n",
    "# 4, Tach tu don gian bang split\n",
    "tokens = text_alpha_space.split()\n",
    "\n",
    "# 5, bo \"stopword\"\n",
    "my_stopwords = {\"a\",\"the\",\"in\",\"on\",\"of\",\"and\",\"is\"}\n",
    "tokens_clean = [w for w in tokens if w not in my_stopwords]\n",
    "print(tokens_clean)"
   ],
   "outputs": [
    {
     "name": "stdout",
     "output_type": "stream",
     "text": [
      "['nasa', 'launched', 'new', 'rocket', 'visit']\n"
     ]
    }
   ],
   "execution_count": 6
  },
  {
   "metadata": {
    "ExecuteTime": {
     "end_time": "2025-09-30T13:23:47.810770Z",
     "start_time": "2025-09-30T13:19:58.734767Z"
    }
   },
   "cell_type": "code",
   "source": [
    "from sklearn.datasets import fetch_20newsgroups\n",
    "\n",
    "data = fetch_20newsgroups(\n",
    "    subset='all',\n",
    "    categories=['alt.atheism', 'talk.religion.misc'],\n",
    "    remove=('headers', 'footers', 'quotes')\n",
    ")\n",
    "print(len(data.data),data.target_names)"
   ],
   "id": "99e61e97b9d035fc",
   "outputs": [
    {
     "name": "stdout",
     "output_type": "stream",
     "text": [
      "1427 ['alt.atheism', 'talk.religion.misc']\n"
     ]
    }
   ],
   "execution_count": 7
  },
  {
   "metadata": {
    "ExecuteTime": {
     "end_time": "2025-09-30T14:17:38.862588Z",
     "start_time": "2025-09-30T14:17:38.709025Z"
    }
   },
   "cell_type": "code",
   "source": [
    "import re\n",
    "from nltk.corpus import stopwords\n",
    "from nltk.tokenize import wordpunct_tokenize  # không cần punkt\n",
    "\n",
    "stop_words = set(stopwords.words(\"english\"))\n",
    "\n",
    "def preprocess(text):\n",
    "    text = text.lower()\n",
    "    text = re.sub(r'https?://\\S+', ' ', text)\n",
    "    text = re.sub(r'[^a-z\\s]', ' ', text)\n",
    "    tokens = wordpunct_tokenize(text)  # tách theo chữ & dấu câu, không cần punkt\n",
    "    tokens = [w for w in tokens if w not in stop_words and len(w) > 1]\n",
    "    return \" \".join(tokens)\n",
    "processed = [preprocess(doc) for doc in data.data]\n",
    "print(processed[0][:200])\n"
   ],
   "id": "6d17d8a41f247bb7",
   "outputs": [
    {
     "name": "stdout",
     "output_type": "stream",
     "text": [
      "sorry ever read first commandment\n"
     ]
    }
   ],
   "execution_count": 16
  },
  {
   "metadata": {
    "ExecuteTime": {
     "end_time": "2025-09-30T14:16:48.652595Z",
     "start_time": "2025-09-30T14:16:48.630496Z"
    }
   },
   "cell_type": "code",
   "source": "",
   "id": "1a8d41a0aefb43b8",
   "outputs": [
    {
     "data": {
      "text/plain": [
       "FileSystemPathPointer('C:\\\\Users\\\\LEGION\\\\AppData\\\\Roaming\\\\nltk_data\\\\tokenizers\\\\punkt_tab')"
      ]
     },
     "execution_count": 12,
     "metadata": {},
     "output_type": "execute_result"
    }
   ],
   "execution_count": 12
  },
  {
   "metadata": {},
   "cell_type": "code",
   "outputs": [],
   "execution_count": null,
   "source": "",
   "id": "3b81186fe9026fb8"
  }
 ],
 "metadata": {
  "kernelspec": {
   "display_name": "Python 3",
   "language": "python",
   "name": "python3"
  },
  "language_info": {
   "codemirror_mode": {
    "name": "ipython",
    "version": 2
   },
   "file_extension": ".py",
   "mimetype": "text/x-python",
   "name": "python",
   "nbconvert_exporter": "python",
   "pygments_lexer": "ipython2",
   "version": "2.7.6"
  }
 },
 "nbformat": 4,
 "nbformat_minor": 5
}
